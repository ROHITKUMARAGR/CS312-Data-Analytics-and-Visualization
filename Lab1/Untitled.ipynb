{
 "cells": [
  {
   "cell_type": "code",
   "execution_count": 19,
   "id": "9f243491",
   "metadata": {},
   "outputs": [
    {
     "name": "stdout",
     "output_type": "stream",
     "text": [
      "         STATE_NAME  Lg_Dist_Code         DISTRICT_NAME  MICRO  SMALL  MEDIUM  \\\n",
      "0    ANDHRA PRADESH           502            ANANTHAPUR   7797    238      10   \n",
      "1    ANDHRA PRADESH           503               CHITOOR   9623    351      19   \n",
      "2    ANDHRA PRADESH           505         EAST GODAVARI  12347    615      49   \n",
      "3    ANDHRA PRADESH           506                GUNTUR  11386    630      53   \n",
      "4    ANDHRA PRADESH           510               KRISHNA  15189   1007      79   \n",
      "..              ...           ...                   ...    ...    ...     ...   \n",
      "733     LAKSHADWEEP           553  LAKSHADWEEP DISTRICT    114      0       0   \n",
      "734      PUDUCHERRY           598              KARAIKAL    989     47       1   \n",
      "735      PUDUCHERRY           599                  MAHE     71     11       0   \n",
      "736      PUDUCHERRY           600           PONDICHERRY   5577    202      21   \n",
      "737      PUDUCHERRY           601                 YANAM     65      6       0   \n",
      "\n",
      "     Total Last_Updated  \n",
      "0     8045   2022-01-11  \n",
      "1     9993   2022-01-11  \n",
      "2    13011   2022-01-11  \n",
      "3    12069   2022-01-11  \n",
      "4    16275   2022-01-11  \n",
      "..     ...          ...  \n",
      "733    114   2022-01-11  \n",
      "734   1037   2022-01-11  \n",
      "735     82   2022-01-11  \n",
      "736   5800   2022-01-11  \n",
      "737     71   2022-01-11  \n",
      "\n",
      "[738 rows x 8 columns]\n"
     ]
    }
   ],
   "source": [
    "import pandas as pd\n",
    "import json\n",
    "df1=pd.read_csv(\"D:\\CS312-Data-Analytics-and-Visualization\\Lab1\\district_level_service_msme.csv\")\n",
    "print(df1)"
   ]
  },
  {
   "cell_type": "code",
   "execution_count": 20,
   "id": "e3048dd5",
   "metadata": {},
   "outputs": [
    {
     "name": "stdout",
     "output_type": "stream",
     "text": [
      "         STATE_NAME Lg_Dist_Code         DISTRICT_NAME  MICRO SMALL MEDIUM  \\\n",
      "0    ANDHRA PRADESH          502            ANANTHAPUR  11370   483     33   \n",
      "1    ANDHRA PRADESH          503               CHITOOR  13037   592     51   \n",
      "2    ANDHRA PRADESH          505         EAST GODAVARI  16711  1044    123   \n",
      "3    ANDHRA PRADESH          506                GUNTUR  15955  1678    169   \n",
      "4    ANDHRA PRADESH          510               KRISHNA  20460  1673    165   \n",
      "..              ...          ...                   ...    ...   ...    ...   \n",
      "732          LADAKH            9            LEH LADAKH   1493    35      0   \n",
      "733     LAKSHADWEEP          553  LAKSHADWEEP DISTRICT    150     0      0   \n",
      "734      PUDUCHERRY          598              KARAIKAL   1248    56      2   \n",
      "735      PUDUCHERRY          599                  MAHE     95    17      0   \n",
      "736      PUDUCHERRY          600           PONDICHERRY   7698   413     50   \n",
      "\n",
      "     Total Last_Updated  \n",
      "0    11886   2022-01-11  \n",
      "1    13680   2022-01-11  \n",
      "2    17878   2022-01-11  \n",
      "3    17802   2022-01-11  \n",
      "4    22298   2022-01-11  \n",
      "..     ...          ...  \n",
      "732   1528   2022-01-11  \n",
      "733    150   2022-01-11  \n",
      "734   1306   2022-01-11  \n",
      "735    112   2022-01-11  \n",
      "736   8161   2022-01-11  \n",
      "\n",
      "[737 rows x 8 columns]\n"
     ]
    }
   ],
   "source": [
    "filepath=\"D:\\CS312-Data-Analytics-and-Visualization\\Lab1\\district_level_manufacturing_msme.json\"\n",
    "f=open(filepath)\n",
    "data=json.load(f)\n",
    "# column=data['column_names']\n",
    "df2=pd.DataFrame(data[\"data\"],columns=['STATE_NAME','Lg_Dist_Code','DISTRICT_NAME','MICRO','SMALL','MEDIUM','Total','Last_Updated'])\n",
    "print(df2)\n"
   ]
  },
  {
   "cell_type": "code",
   "execution_count": 25,
   "id": "4a09468b",
   "metadata": {},
   "outputs": [
    {
     "data": {
      "text/plain": [
       "317222"
      ]
     },
     "execution_count": 25,
     "metadata": {},
     "output_type": "execute_result"
    }
   ],
   "source": [
    "df2[\"SMALL\"].astype(int).sum()"
   ]
  },
  {
   "cell_type": "code",
   "execution_count": null,
   "id": "23f050f9",
   "metadata": {},
   "outputs": [],
   "source": []
  }
 ],
 "metadata": {
  "kernelspec": {
   "display_name": "Python 3 (ipykernel)",
   "language": "python",
   "name": "python3"
  },
  "language_info": {
   "codemirror_mode": {
    "name": "ipython",
    "version": 3
   },
   "file_extension": ".py",
   "mimetype": "text/x-python",
   "name": "python",
   "nbconvert_exporter": "python",
   "pygments_lexer": "ipython3",
   "version": "3.9.6"
  }
 },
 "nbformat": 4,
 "nbformat_minor": 5
}
